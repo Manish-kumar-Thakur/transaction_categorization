{
 "cells": [
  {
   "cell_type": "code",
   "execution_count": 103,
   "id": "660b9dc1-db7e-43c8-aec5-d5456cac10e5",
   "metadata": {},
   "outputs": [],
   "source": [
    "import numpy as np"
   ]
  },
  {
   "cell_type": "code",
   "execution_count": 104,
   "id": "9847c711-bf9a-4acf-88ef-072c05e1ee7f",
   "metadata": {},
   "outputs": [],
   "source": [
    "import pandas as pd"
   ]
  },
  {
   "cell_type": "code",
   "execution_count": 105,
   "id": "910da1db-00ab-4128-ba09-13790eead719",
   "metadata": {},
   "outputs": [],
   "source": [
    "import joblib"
   ]
  },
  {
   "cell_type": "code",
   "execution_count": 106,
   "id": "2408c2b4-dd04-4edf-8c7e-08aeb609d687",
   "metadata": {},
   "outputs": [],
   "source": [
    "from sklearn.model_selection import train_test_split\n",
    "from sklearn.linear_model import LogisticRegression\n",
    "from sklearn.preprocessing import OneHotEncoder, StandardScaler, LabelEncoder\n",
    "from sklearn.pipeline import Pipeline\n",
    "from sklearn.compose import ColumnTransformer\n",
    "from sklearn.metrics import classification_report, confusion_matrix"
   ]
  },
  {
   "cell_type": "code",
   "execution_count": 107,
   "id": "5b75d07f-795d-44dd-8c46-ca53d0d57ac7",
   "metadata": {},
   "outputs": [],
   "source": [
    "df = pd.read_csv(\"transactions.csv\")"
   ]
  },
  {
   "cell_type": "code",
   "execution_count": null,
   "id": "59f120ed-6545-4ea5-9be6-acf881c53968",
   "metadata": {},
   "outputs": [],
   "source": [
    "from ydata_profiling import ProfileReport\n",
    "\n",
    "# Create the profile report\n",
    "profile = ProfileReport(df, title=\"Transaction Categorization Report\", explorative=True)\n",
    "\n",
    "# Save it to an HTML file\n",
    "profile.to_file(\"transaction_categorization_report.html\")\n",
    "\n",
    "# Optional: display in notebook (if using Jupyter)\n",
    "# profile.to_notebook_iframe()\n"
   ]
  },
  {
   "cell_type": "code",
   "execution_count": 108,
   "id": "327b71fc-40bc-45d1-b46c-9247ce3df703",
   "metadata": {},
   "outputs": [
    {
     "name": "stdout",
     "output_type": "stream",
     "text": [
      "(400000, 11)\n"
     ]
    }
   ],
   "source": [
    "print(df.shape)"
   ]
  },
  {
   "cell_type": "code",
   "execution_count": 109,
   "id": "b7dc9b15-f7df-49d1-b1e7-76823f77a482",
   "metadata": {},
   "outputs": [
    {
     "data": {
      "text/html": [
       "<div>\n",
       "<style scoped>\n",
       "    .dataframe tbody tr th:only-of-type {\n",
       "        vertical-align: middle;\n",
       "    }\n",
       "\n",
       "    .dataframe tbody tr th {\n",
       "        vertical-align: top;\n",
       "    }\n",
       "\n",
       "    .dataframe thead th {\n",
       "        text-align: right;\n",
       "    }\n",
       "</style>\n",
       "<table border=\"1\" class=\"dataframe\">\n",
       "  <thead>\n",
       "    <tr style=\"text-align: right;\">\n",
       "      <th></th>\n",
       "      <th>transaction_id</th>\n",
       "      <th>user_id</th>\n",
       "      <th>name</th>\n",
       "      <th>transaction_date</th>\n",
       "      <th>category</th>\n",
       "      <th>amount</th>\n",
       "      <th>payment_method</th>\n",
       "      <th>location</th>\n",
       "      <th>age</th>\n",
       "      <th>sex</th>\n",
       "      <th>transaction_details</th>\n",
       "    </tr>\n",
       "  </thead>\n",
       "  <tbody>\n",
       "    <tr>\n",
       "      <th>0</th>\n",
       "      <td>1</td>\n",
       "      <td>U0229</td>\n",
       "      <td>Ashok Basnet</td>\n",
       "      <td>2024-12-17 08:13:14</td>\n",
       "      <td>Groceries</td>\n",
       "      <td>1411.40</td>\n",
       "      <td>eSewa</td>\n",
       "      <td>Janakpur</td>\n",
       "      <td>27</td>\n",
       "      <td>Male</td>\n",
       "      <td>User Ashok Basnet made a Groceries transaction...</td>\n",
       "    </tr>\n",
       "    <tr>\n",
       "      <th>1</th>\n",
       "      <td>2</td>\n",
       "      <td>U0210</td>\n",
       "      <td>Sita Lama</td>\n",
       "      <td>2025-02-27 22:22:23</td>\n",
       "      <td>Mobile Recharge</td>\n",
       "      <td>4466.29</td>\n",
       "      <td>Cash</td>\n",
       "      <td>Pokhara</td>\n",
       "      <td>56</td>\n",
       "      <td>Female</td>\n",
       "      <td>User Sita Lama made a Mobile Recharge transact...</td>\n",
       "    </tr>\n",
       "    <tr>\n",
       "      <th>2</th>\n",
       "      <td>3</td>\n",
       "      <td>U0865</td>\n",
       "      <td>Rina Shrestha</td>\n",
       "      <td>2024-12-21 19:49:16</td>\n",
       "      <td>Groceries</td>\n",
       "      <td>513.79</td>\n",
       "      <td>eSewa</td>\n",
       "      <td>Janakpur</td>\n",
       "      <td>24</td>\n",
       "      <td>Female</td>\n",
       "      <td>User Rina Shrestha made a Groceries transactio...</td>\n",
       "    </tr>\n",
       "    <tr>\n",
       "      <th>3</th>\n",
       "      <td>4</td>\n",
       "      <td>U0055</td>\n",
       "      <td>Rina Thapa</td>\n",
       "      <td>2025-05-15 20:40:05</td>\n",
       "      <td>Healthcare</td>\n",
       "      <td>3594.30</td>\n",
       "      <td>Debit Card</td>\n",
       "      <td>Janakpur</td>\n",
       "      <td>41</td>\n",
       "      <td>Female</td>\n",
       "      <td>User Rina Thapa made a Healthcare transaction ...</td>\n",
       "    </tr>\n",
       "    <tr>\n",
       "      <th>4</th>\n",
       "      <td>5</td>\n",
       "      <td>U0860</td>\n",
       "      <td>Manisha Shrestha</td>\n",
       "      <td>2025-05-07 19:02:59</td>\n",
       "      <td>Utilities</td>\n",
       "      <td>2966.87</td>\n",
       "      <td>Debit Card</td>\n",
       "      <td>Butwal</td>\n",
       "      <td>57</td>\n",
       "      <td>Female</td>\n",
       "      <td>User Manisha Shrestha made a Utilities transac...</td>\n",
       "    </tr>\n",
       "    <tr>\n",
       "      <th>5</th>\n",
       "      <td>6</td>\n",
       "      <td>U0014</td>\n",
       "      <td>Sita Basnet</td>\n",
       "      <td>2024-12-24 23:44:18</td>\n",
       "      <td>Travel</td>\n",
       "      <td>840.31</td>\n",
       "      <td>Khalti</td>\n",
       "      <td>Janakpur</td>\n",
       "      <td>42</td>\n",
       "      <td>Female</td>\n",
       "      <td>User Sita Basnet made a Travel transaction of ...</td>\n",
       "    </tr>\n",
       "    <tr>\n",
       "      <th>6</th>\n",
       "      <td>7</td>\n",
       "      <td>U0570</td>\n",
       "      <td>Sandhya Adhikari</td>\n",
       "      <td>2025-01-13 20:12:54</td>\n",
       "      <td>Utilities</td>\n",
       "      <td>4788.20</td>\n",
       "      <td>Khalti</td>\n",
       "      <td>Nepalgunj</td>\n",
       "      <td>59</td>\n",
       "      <td>Female</td>\n",
       "      <td>User Sandhya Adhikari made a Utilities transac...</td>\n",
       "    </tr>\n",
       "    <tr>\n",
       "      <th>7</th>\n",
       "      <td>8</td>\n",
       "      <td>U0190</td>\n",
       "      <td>Kabita Thapa</td>\n",
       "      <td>2025-02-22 04:12:21</td>\n",
       "      <td>Dining</td>\n",
       "      <td>1826.95</td>\n",
       "      <td>Khalti</td>\n",
       "      <td>Birgunj</td>\n",
       "      <td>22</td>\n",
       "      <td>Male</td>\n",
       "      <td>User Kabita Thapa made a Dining transaction of...</td>\n",
       "    </tr>\n",
       "    <tr>\n",
       "      <th>8</th>\n",
       "      <td>9</td>\n",
       "      <td>U0542</td>\n",
       "      <td>Bimal Rai</td>\n",
       "      <td>2024-12-06 11:39:01</td>\n",
       "      <td>Clothing</td>\n",
       "      <td>3662.17</td>\n",
       "      <td>IME Pay</td>\n",
       "      <td>Dharan</td>\n",
       "      <td>53</td>\n",
       "      <td>Female</td>\n",
       "      <td>User Bimal Rai made a Clothing transaction of ...</td>\n",
       "    </tr>\n",
       "    <tr>\n",
       "      <th>9</th>\n",
       "      <td>10</td>\n",
       "      <td>U0776</td>\n",
       "      <td>Puja Gurung</td>\n",
       "      <td>2025-02-24 22:11:29</td>\n",
       "      <td>Groceries</td>\n",
       "      <td>1501.23</td>\n",
       "      <td>Bank Transfer</td>\n",
       "      <td>Bharatpur</td>\n",
       "      <td>33</td>\n",
       "      <td>Female</td>\n",
       "      <td>User Puja Gurung made a Groceries transaction ...</td>\n",
       "    </tr>\n",
       "  </tbody>\n",
       "</table>\n",
       "</div>"
      ],
      "text/plain": [
       "   transaction_id user_id              name     transaction_date  \\\n",
       "0               1   U0229      Ashok Basnet  2024-12-17 08:13:14   \n",
       "1               2   U0210         Sita Lama  2025-02-27 22:22:23   \n",
       "2               3   U0865     Rina Shrestha  2024-12-21 19:49:16   \n",
       "3               4   U0055        Rina Thapa  2025-05-15 20:40:05   \n",
       "4               5   U0860  Manisha Shrestha  2025-05-07 19:02:59   \n",
       "5               6   U0014       Sita Basnet  2024-12-24 23:44:18   \n",
       "6               7   U0570  Sandhya Adhikari  2025-01-13 20:12:54   \n",
       "7               8   U0190      Kabita Thapa  2025-02-22 04:12:21   \n",
       "8               9   U0542         Bimal Rai  2024-12-06 11:39:01   \n",
       "9              10   U0776       Puja Gurung  2025-02-24 22:11:29   \n",
       "\n",
       "          category   amount payment_method   location  age     sex  \\\n",
       "0        Groceries  1411.40          eSewa   Janakpur   27    Male   \n",
       "1  Mobile Recharge  4466.29           Cash    Pokhara   56  Female   \n",
       "2        Groceries   513.79          eSewa   Janakpur   24  Female   \n",
       "3       Healthcare  3594.30     Debit Card   Janakpur   41  Female   \n",
       "4        Utilities  2966.87     Debit Card     Butwal   57  Female   \n",
       "5           Travel   840.31         Khalti   Janakpur   42  Female   \n",
       "6        Utilities  4788.20         Khalti  Nepalgunj   59  Female   \n",
       "7           Dining  1826.95         Khalti    Birgunj   22    Male   \n",
       "8         Clothing  3662.17        IME Pay     Dharan   53  Female   \n",
       "9        Groceries  1501.23  Bank Transfer  Bharatpur   33  Female   \n",
       "\n",
       "                                 transaction_details  \n",
       "0  User Ashok Basnet made a Groceries transaction...  \n",
       "1  User Sita Lama made a Mobile Recharge transact...  \n",
       "2  User Rina Shrestha made a Groceries transactio...  \n",
       "3  User Rina Thapa made a Healthcare transaction ...  \n",
       "4  User Manisha Shrestha made a Utilities transac...  \n",
       "5  User Sita Basnet made a Travel transaction of ...  \n",
       "6  User Sandhya Adhikari made a Utilities transac...  \n",
       "7  User Kabita Thapa made a Dining transaction of...  \n",
       "8  User Bimal Rai made a Clothing transaction of ...  \n",
       "9  User Puja Gurung made a Groceries transaction ...  "
      ]
     },
     "execution_count": 109,
     "metadata": {},
     "output_type": "execute_result"
    }
   ],
   "source": [
    "df.head(10)"
   ]
  },
  {
   "cell_type": "code",
   "execution_count": 110,
   "id": "3317ece3-a224-4280-bd02-067487750a7d",
   "metadata": {},
   "outputs": [
    {
     "name": "stdout",
     "output_type": "stream",
     "text": [
      "Requirement already satisfied: scikit-learn in c:\\users\\manish\\appdata\\local\\packages\\pythonsoftwarefoundation.python.3.11_qbz5n2kfra8p0\\localcache\\local-packages\\python311\\site-packages (1.6.1)\n",
      "Requirement already satisfied: numpy>=1.19.5 in c:\\users\\manish\\appdata\\local\\packages\\pythonsoftwarefoundation.python.3.11_qbz5n2kfra8p0\\localcache\\local-packages\\python311\\site-packages (from scikit-learn) (2.0.2)\n",
      "Requirement already satisfied: scipy>=1.6.0 in c:\\users\\manish\\appdata\\local\\packages\\pythonsoftwarefoundation.python.3.11_qbz5n2kfra8p0\\localcache\\local-packages\\python311\\site-packages (from scikit-learn) (1.15.3)\n",
      "Requirement already satisfied: joblib>=1.2.0 in c:\\users\\manish\\appdata\\local\\packages\\pythonsoftwarefoundation.python.3.11_qbz5n2kfra8p0\\localcache\\local-packages\\python311\\site-packages (from scikit-learn) (1.5.0)\n",
      "Requirement already satisfied: threadpoolctl>=3.1.0 in c:\\users\\manish\\appdata\\local\\packages\\pythonsoftwarefoundation.python.3.11_qbz5n2kfra8p0\\localcache\\local-packages\\python311\\site-packages (from scikit-learn) (3.6.0)\n",
      "Note: you may need to restart the kernel to use updated packages.\n"
     ]
    }
   ],
   "source": [
    "pip install scikit-learn\n"
   ]
  },
  {
   "cell_type": "code",
   "execution_count": 111,
   "id": "f190463f-0e17-4223-a05d-e76290b64c68",
   "metadata": {},
   "outputs": [],
   "source": [
    "df.drop(columns=['name', 'transaction_id', 'transaction_details', 'user_id'], inplace=True)\n"
   ]
  },
  {
   "cell_type": "code",
   "execution_count": 112,
   "id": "60948289-8d5e-4083-9c61-1e2ae0a02035",
   "metadata": {},
   "outputs": [
    {
     "data": {
      "text/html": [
       "<div>\n",
       "<style scoped>\n",
       "    .dataframe tbody tr th:only-of-type {\n",
       "        vertical-align: middle;\n",
       "    }\n",
       "\n",
       "    .dataframe tbody tr th {\n",
       "        vertical-align: top;\n",
       "    }\n",
       "\n",
       "    .dataframe thead th {\n",
       "        text-align: right;\n",
       "    }\n",
       "</style>\n",
       "<table border=\"1\" class=\"dataframe\">\n",
       "  <thead>\n",
       "    <tr style=\"text-align: right;\">\n",
       "      <th></th>\n",
       "      <th>transaction_date</th>\n",
       "      <th>category</th>\n",
       "      <th>amount</th>\n",
       "      <th>payment_method</th>\n",
       "      <th>location</th>\n",
       "      <th>age</th>\n",
       "      <th>sex</th>\n",
       "    </tr>\n",
       "  </thead>\n",
       "  <tbody>\n",
       "    <tr>\n",
       "      <th>0</th>\n",
       "      <td>2024-12-17 08:13:14</td>\n",
       "      <td>Groceries</td>\n",
       "      <td>1411.40</td>\n",
       "      <td>eSewa</td>\n",
       "      <td>Janakpur</td>\n",
       "      <td>27</td>\n",
       "      <td>Male</td>\n",
       "    </tr>\n",
       "    <tr>\n",
       "      <th>1</th>\n",
       "      <td>2025-02-27 22:22:23</td>\n",
       "      <td>Mobile Recharge</td>\n",
       "      <td>4466.29</td>\n",
       "      <td>Cash</td>\n",
       "      <td>Pokhara</td>\n",
       "      <td>56</td>\n",
       "      <td>Female</td>\n",
       "    </tr>\n",
       "    <tr>\n",
       "      <th>2</th>\n",
       "      <td>2024-12-21 19:49:16</td>\n",
       "      <td>Groceries</td>\n",
       "      <td>513.79</td>\n",
       "      <td>eSewa</td>\n",
       "      <td>Janakpur</td>\n",
       "      <td>24</td>\n",
       "      <td>Female</td>\n",
       "    </tr>\n",
       "    <tr>\n",
       "      <th>3</th>\n",
       "      <td>2025-05-15 20:40:05</td>\n",
       "      <td>Healthcare</td>\n",
       "      <td>3594.30</td>\n",
       "      <td>Debit Card</td>\n",
       "      <td>Janakpur</td>\n",
       "      <td>41</td>\n",
       "      <td>Female</td>\n",
       "    </tr>\n",
       "    <tr>\n",
       "      <th>4</th>\n",
       "      <td>2025-05-07 19:02:59</td>\n",
       "      <td>Utilities</td>\n",
       "      <td>2966.87</td>\n",
       "      <td>Debit Card</td>\n",
       "      <td>Butwal</td>\n",
       "      <td>57</td>\n",
       "      <td>Female</td>\n",
       "    </tr>\n",
       "  </tbody>\n",
       "</table>\n",
       "</div>"
      ],
      "text/plain": [
       "      transaction_date         category   amount payment_method  location  \\\n",
       "0  2024-12-17 08:13:14        Groceries  1411.40          eSewa  Janakpur   \n",
       "1  2025-02-27 22:22:23  Mobile Recharge  4466.29           Cash   Pokhara   \n",
       "2  2024-12-21 19:49:16        Groceries   513.79          eSewa  Janakpur   \n",
       "3  2025-05-15 20:40:05       Healthcare  3594.30     Debit Card  Janakpur   \n",
       "4  2025-05-07 19:02:59        Utilities  2966.87     Debit Card    Butwal   \n",
       "\n",
       "   age     sex  \n",
       "0   27    Male  \n",
       "1   56  Female  \n",
       "2   24  Female  \n",
       "3   41  Female  \n",
       "4   57  Female  "
      ]
     },
     "execution_count": 112,
     "metadata": {},
     "output_type": "execute_result"
    }
   ],
   "source": [
    "df.head()"
   ]
  },
  {
   "cell_type": "code",
   "execution_count": 113,
   "id": "73eeaaff-a472-4f65-8edc-ad90911d2bf2",
   "metadata": {},
   "outputs": [
    {
     "data": {
      "text/plain": [
       "category          12\n",
       "payment_method     7\n",
       "location          12\n",
       "dtype: int64"
      ]
     },
     "execution_count": 113,
     "metadata": {},
     "output_type": "execute_result"
    }
   ],
   "source": [
    "df[['category', 'payment_method', 'location']].nunique()"
   ]
  },
  {
   "cell_type": "code",
   "execution_count": 114,
   "id": "94e1df02-ecc0-4fd9-89dd-600942708d3c",
   "metadata": {},
   "outputs": [
    {
     "data": {
      "text/plain": [
       "{'category': ['Groceries',\n",
       "  'Mobile Recharge',\n",
       "  'Healthcare',\n",
       "  'Utilities',\n",
       "  'Travel',\n",
       "  'Dining',\n",
       "  'Clothing',\n",
       "  'Education',\n",
       "  'Entertainment',\n",
       "  'Transportation',\n",
       "  'Rent',\n",
       "  'Others'],\n",
       " 'payment_method': ['eSewa',\n",
       "  'Cash',\n",
       "  'Debit Card',\n",
       "  'Khalti',\n",
       "  'IME Pay',\n",
       "  'Bank Transfer',\n",
       "  'Credit Card'],\n",
       " 'location': ['Janakpur',\n",
       "  'Pokhara',\n",
       "  'Butwal',\n",
       "  'Nepalgunj',\n",
       "  'Birgunj',\n",
       "  'Dharan',\n",
       "  'Bharatpur',\n",
       "  'Itahari',\n",
       "  'Hetauda',\n",
       "  'Kathmandu',\n",
       "  'Lalitpur',\n",
       "  'Biratnagar']}"
      ]
     },
     "execution_count": 114,
     "metadata": {},
     "output_type": "execute_result"
    }
   ],
   "source": [
    "{col: df[col].unique().tolist() for col in ['category', 'payment_method', 'location']}\n"
   ]
  },
  {
   "cell_type": "code",
   "execution_count": 115,
   "id": "63444883-f655-4852-bb67-49e96403896f",
   "metadata": {},
   "outputs": [],
   "source": [
    "# Step 1: Convert transaction_date to datetime\n",
    "df['transaction_date'] = pd.to_datetime(df['transaction_date'])\n",
    "\n",
    "# Step 2: Extract date components\n",
    "df['year'] = df['transaction_date'].dt.year\n",
    "df['month'] = df['transaction_date'].dt.month\n",
    "df['day'] = df['transaction_date'].dt.day\n",
    "df['hour'] = df['transaction_date'].dt.hour\n",
    "df['weekday'] = df['transaction_date'].dt.weekday"
   ]
  },
  {
   "cell_type": "code",
   "execution_count": 116,
   "id": "522c246a-0f94-4547-a3fd-5cddc245078c",
   "metadata": {},
   "outputs": [],
   "source": [
    "# Step 4: Define features and target\n",
    "X = df[['age', 'amount', 'payment_method', 'location', 'year', 'month', 'day','hour', 'weekday', 'sex']]\n",
    "y = df['category']  # food, rent, etc."
   ]
  },
  {
   "cell_type": "code",
   "execution_count": 117,
   "id": "6ef36356-453b-4a8b-88fb-a234c5edb3d0",
   "metadata": {},
   "outputs": [],
   "source": [
    "X_train, X_test, y_train, y_test = train_test_split(X, y, test_size=0.2, stratify=y, random_state=2)"
   ]
  },
  {
   "cell_type": "code",
   "execution_count": 118,
   "id": "682efc58-2856-4556-b0f1-74f3eb978ad6",
   "metadata": {},
   "outputs": [],
   "source": [
    "# Step 5: Define preprocessing\n",
    "numeric_features = ['age', 'amount', 'year', 'month', 'day', 'hour', 'weekday']\n",
    "categorical_features = ['payment_method', 'location', 'sex']\n",
    "\n",
    "preprocessor = ColumnTransformer(\n",
    "    transformers=[\n",
    "        ('num', StandardScaler(), numeric_features),\n",
    "        ('cat', OneHotEncoder(handle_unknown='ignore', sparse_output=False), categorical_features)\n",
    "    ])\n",
    "pipeline = Pipeline([\n",
    "    ('prep', preprocessor),\n",
    "    ('clf', LogisticRegression(solver='lbfgs', max_iter=1000))\n",
    "])"
   ]
  },
  {
   "cell_type": "code",
   "execution_count": 119,
   "id": "e1fd2a16-5af0-43f8-a390-c03d8cfdcdb1",
   "metadata": {},
   "outputs": [
    {
     "name": "stdout",
     "output_type": "stream",
     "text": [
      "        num__age  num__amount  num__year  num__month  num__day  num__hour  \\\n",
      "91302  -0.327822     0.825801   0.855321   -1.248914 -0.878557  -0.506945   \n",
      "381793 -0.781805    -0.198884  -1.169152    1.390406 -1.220317   0.502701   \n",
      "179491 -0.327822     1.211886   0.855321   -0.984982  0.488485   0.935407   \n",
      "50621   1.488110    -0.141542   0.855321   -0.984982 -0.878557   0.791171   \n",
      "91440   1.336783    -0.205792   0.855321   -0.193186 -0.422876   1.223877   \n",
      "\n",
      "        num__weekday  cat__payment_method_Bank Transfer  \\\n",
      "91302      -0.493297                                0.0   \n",
      "381793     -0.993514                                0.0   \n",
      "179491      0.006920                                1.0   \n",
      "50621       1.007354                                0.0   \n",
      "91440      -1.493731                                0.0   \n",
      "\n",
      "        cat__payment_method_Cash  cat__payment_method_Credit Card  ...  \\\n",
      "91302                        0.0                              0.0  ...   \n",
      "381793                       0.0                              0.0  ...   \n",
      "179491                       0.0                              0.0  ...   \n",
      "50621                        0.0                              0.0  ...   \n",
      "91440                        0.0                              0.0  ...   \n",
      "\n",
      "        cat__location_Dharan  cat__location_Hetauda  cat__location_Itahari  \\\n",
      "91302                    0.0                    0.0                    0.0   \n",
      "381793                   0.0                    0.0                    1.0   \n",
      "179491                   0.0                    0.0                    0.0   \n",
      "50621                    0.0                    0.0                    0.0   \n",
      "91440                    0.0                    0.0                    0.0   \n",
      "\n",
      "        cat__location_Janakpur  cat__location_Kathmandu  \\\n",
      "91302                      0.0                      0.0   \n",
      "381793                     0.0                      0.0   \n",
      "179491                     0.0                      0.0   \n",
      "50621                      0.0                      0.0   \n",
      "91440                      0.0                      0.0   \n",
      "\n",
      "        cat__location_Lalitpur  cat__location_Nepalgunj  \\\n",
      "91302                      0.0                      0.0   \n",
      "381793                     0.0                      0.0   \n",
      "179491                     0.0                      0.0   \n",
      "50621                      0.0                      1.0   \n",
      "91440                      0.0                      1.0   \n",
      "\n",
      "        cat__location_Pokhara  cat__sex_Female  cat__sex_Male  \n",
      "91302                     0.0              0.0            1.0  \n",
      "381793                    0.0              0.0            1.0  \n",
      "179491                    0.0              1.0            0.0  \n",
      "50621                     0.0              0.0            1.0  \n",
      "91440                     0.0              1.0            0.0  \n",
      "\n",
      "[5 rows x 28 columns]\n"
     ]
    }
   ],
   "source": [
    "from sklearn import set_config\n",
    "set_config(transform_output=\"pandas\")\n",
    "\n",
    "X_encoded = preprocessor.fit_transform(X_train)\n",
    "print(X_encoded.head())"
   ]
  },
  {
   "cell_type": "code",
   "execution_count": 120,
   "id": "93b5eaae-7c80-44ea-a9da-a406fe5f10fa",
   "metadata": {},
   "outputs": [],
   "source": [
    "# Step:Train\n",
    "pipeline.fit(X_train, y_train)\n",
    "y_pred = pipeline.predict(X_test)"
   ]
  },
  {
   "cell_type": "code",
   "execution_count": 121,
   "id": "f72d89ca-53e4-4455-b372-cf96b37c1f2d",
   "metadata": {},
   "outputs": [
    {
     "data": {
      "text/html": [
       "<div>\n",
       "<style scoped>\n",
       "    .dataframe tbody tr th:only-of-type {\n",
       "        vertical-align: middle;\n",
       "    }\n",
       "\n",
       "    .dataframe tbody tr th {\n",
       "        vertical-align: top;\n",
       "    }\n",
       "\n",
       "    .dataframe thead th {\n",
       "        text-align: right;\n",
       "    }\n",
       "</style>\n",
       "<table border=\"1\" class=\"dataframe\">\n",
       "  <thead>\n",
       "    <tr style=\"text-align: right;\">\n",
       "      <th></th>\n",
       "      <th>age</th>\n",
       "      <th>amount</th>\n",
       "      <th>payment_method</th>\n",
       "      <th>location</th>\n",
       "      <th>year</th>\n",
       "      <th>month</th>\n",
       "      <th>day</th>\n",
       "      <th>hour</th>\n",
       "      <th>weekday</th>\n",
       "      <th>sex</th>\n",
       "    </tr>\n",
       "  </thead>\n",
       "  <tbody>\n",
       "    <tr>\n",
       "      <th>91302</th>\n",
       "      <td>36</td>\n",
       "      <td>3724.31</td>\n",
       "      <td>eSewa</td>\n",
       "      <td>Butwal</td>\n",
       "      <td>2025</td>\n",
       "      <td>1</td>\n",
       "      <td>8</td>\n",
       "      <td>8</td>\n",
       "      <td>2</td>\n",
       "      <td>Male</td>\n",
       "    </tr>\n",
       "    <tr>\n",
       "      <th>381793</th>\n",
       "      <td>30</td>\n",
       "      <td>2264.72</td>\n",
       "      <td>Khalti</td>\n",
       "      <td>Itahari</td>\n",
       "      <td>2024</td>\n",
       "      <td>11</td>\n",
       "      <td>5</td>\n",
       "      <td>15</td>\n",
       "      <td>1</td>\n",
       "      <td>Male</td>\n",
       "    </tr>\n",
       "    <tr>\n",
       "      <th>179491</th>\n",
       "      <td>36</td>\n",
       "      <td>4274.26</td>\n",
       "      <td>Bank Transfer</td>\n",
       "      <td>Bharatpur</td>\n",
       "      <td>2025</td>\n",
       "      <td>2</td>\n",
       "      <td>20</td>\n",
       "      <td>18</td>\n",
       "      <td>3</td>\n",
       "      <td>Female</td>\n",
       "    </tr>\n",
       "    <tr>\n",
       "      <th>50621</th>\n",
       "      <td>60</td>\n",
       "      <td>2346.40</td>\n",
       "      <td>Khalti</td>\n",
       "      <td>Nepalgunj</td>\n",
       "      <td>2025</td>\n",
       "      <td>2</td>\n",
       "      <td>8</td>\n",
       "      <td>17</td>\n",
       "      <td>5</td>\n",
       "      <td>Male</td>\n",
       "    </tr>\n",
       "    <tr>\n",
       "      <th>91440</th>\n",
       "      <td>58</td>\n",
       "      <td>2254.88</td>\n",
       "      <td>IME Pay</td>\n",
       "      <td>Nepalgunj</td>\n",
       "      <td>2025</td>\n",
       "      <td>5</td>\n",
       "      <td>12</td>\n",
       "      <td>20</td>\n",
       "      <td>0</td>\n",
       "      <td>Female</td>\n",
       "    </tr>\n",
       "  </tbody>\n",
       "</table>\n",
       "</div>"
      ],
      "text/plain": [
       "        age   amount payment_method   location  year  month  day  hour  \\\n",
       "91302    36  3724.31          eSewa     Butwal  2025      1    8     8   \n",
       "381793   30  2264.72         Khalti    Itahari  2024     11    5    15   \n",
       "179491   36  4274.26  Bank Transfer  Bharatpur  2025      2   20    18   \n",
       "50621    60  2346.40         Khalti  Nepalgunj  2025      2    8    17   \n",
       "91440    58  2254.88        IME Pay  Nepalgunj  2025      5   12    20   \n",
       "\n",
       "        weekday     sex  \n",
       "91302         2    Male  \n",
       "381793        1    Male  \n",
       "179491        3  Female  \n",
       "50621         5    Male  \n",
       "91440         0  Female  "
      ]
     },
     "execution_count": 121,
     "metadata": {},
     "output_type": "execute_result"
    }
   ],
   "source": [
    "X_train.head()"
   ]
  },
  {
   "cell_type": "code",
   "execution_count": 122,
   "id": "af59f6c8-6e95-4a3c-9fb8-6e1ffb69d109",
   "metadata": {},
   "outputs": [
    {
     "data": {
      "text/plain": [
       "(320000, 10)"
      ]
     },
     "execution_count": 122,
     "metadata": {},
     "output_type": "execute_result"
    }
   ],
   "source": [
    "X_train.shape"
   ]
  },
  {
   "cell_type": "code",
   "execution_count": 123,
   "id": "82dfa6ef-edb9-460d-a9e2-85d0c2e8a5ce",
   "metadata": {},
   "outputs": [
    {
     "name": "stdout",
     "output_type": "stream",
     "text": [
      "Model Accuracy: 0.12\n"
     ]
    }
   ],
   "source": [
    "# Optional: Evaluate\n",
    "accuracy = pipeline.score(X_test, y_test)\n",
    "print(f\"Model Accuracy: {accuracy:.2f}\")"
   ]
  },
  {
   "cell_type": "code",
   "execution_count": 124,
   "id": "64cf59d5-2b67-456d-8bda-05cb001b07ef",
   "metadata": {},
   "outputs": [
    {
     "name": "stdout",
     "output_type": "stream",
     "text": [
      "Model saved succesfully Manish\n"
     ]
    }
   ],
   "source": [
    "joblib.dump(pipeline, 'trained_logisticRegressionModel.pkl')\n",
    "print(\"Model saved succesfully Manish\")"
   ]
  },
  {
   "cell_type": "code",
   "execution_count": 125,
   "id": "7d8cfa6e-d606-49b7-85bc-20b7b0268606",
   "metadata": {},
   "outputs": [
    {
     "name": "stdout",
     "output_type": "stream",
     "text": [
      "['Groceries']\n"
     ]
    }
   ],
   "source": [
    "new_data = pd.DataFrame([{\n",
    "    'payment_method': 'eSewa',\n",
    "    'location': 'Kathmandu',\n",
    "    'sex': 'Male',\n",
    "    'age': 20,\n",
    "    'year': 2025,\n",
    "    'month': 5,\n",
    "    'day': 24,\n",
    "    'hour': 15,\n",
    "    'weekday': 5,\n",
    "    'amount':3700\n",
    "    \n",
    "}])\n",
    "\n",
    "result = pipeline.predict(new_data)\n",
    "print(result)\n"
   ]
  },
  {
   "cell_type": "code",
   "execution_count": 126,
   "id": "91f1235c-42b4-4c96-afee-fcabbaefe7c6",
   "metadata": {},
   "outputs": [
    {
     "data": {
      "text/plain": [
       "['trained_logisticRegressionModel.pkl']"
      ]
     },
     "execution_count": 126,
     "metadata": {},
     "output_type": "execute_result"
    }
   ],
   "source": [
    "import joblib\n",
    "joblib.dump(pipeline, 'trained_logisticRegressionModel.pkl', compress = 3)\n"
   ]
  },
  {
   "cell_type": "code",
   "execution_count": 127,
   "id": "ce481d20-c31c-443f-aa76-35cfa58d1020",
   "metadata": {},
   "outputs": [
    {
     "name": "stdout",
     "output_type": "stream",
     "text": [
      "Predicted Category: Groceries\n"
     ]
    }
   ],
   "source": [
    "#import joblib\n",
    "\n",
    "# Load the model\n",
    "model = joblib.load('trained_logisticRegressionModel.pkl')\n",
    "\n",
    "# Example input (must match the structure used in training)\n",
    "new_data = pd.DataFrame([{\n",
    "    'payment_method': 'eSewa',\n",
    "    'location': 'Janakpur',\n",
    "    'sex': 'Female',\n",
    "    'age': 30,\n",
    "    'year': 2025,\n",
    "    'month': 5,\n",
    "    'day': 24,\n",
    "    'hour': 15,\n",
    "    'weekday': 5,\n",
    "    'amount':3500\n",
    "}])\n",
    "\n",
    "# Make prediction\n",
    "prediction = model.predict(new_data)\n",
    "print(\"Predicted Category:\", prediction[0])"
   ]
  },
  {
   "cell_type": "code",
   "execution_count": 128,
   "id": "afc5ec30-6f17-47e7-ae4a-041f737d1c97",
   "metadata": {},
   "outputs": [
    {
     "name": "stdout",
     "output_type": "stream",
     "text": [
      "                 precision    recall  f1-score   support\n",
      "\n",
      "       Clothing       0.07      0.01      0.01      5789\n",
      "         Dining       0.08      0.01      0.02      7222\n",
      "      Education       0.08      0.01      0.02      5330\n",
      "  Entertainment       0.09      0.01      0.02      6638\n",
      "      Groceries       0.12      0.90      0.22      9392\n",
      "     Healthcare       0.08      0.02      0.03      5578\n",
      "Mobile Recharge       0.07      0.00      0.00      7301\n",
      "         Others       0.07      0.01      0.02      5702\n",
      "           Rent       0.07      0.02      0.03      7495\n",
      " Transportation       0.10      0.02      0.04      7250\n",
      "         Travel       0.09      0.02      0.03      4959\n",
      "      Utilities       0.11      0.03      0.04      7344\n",
      "\n",
      "       accuracy                           0.12     80000\n",
      "      macro avg       0.09      0.09      0.04     80000\n",
      "   weighted avg       0.09      0.12      0.05     80000\n",
      "\n"
     ]
    }
   ],
   "source": [
    "from sklearn.metrics import classification_report\n",
    "print(classification_report(y_test, y_pred))\n"
   ]
  },
  {
   "cell_type": "code",
   "execution_count": null,
   "id": "771149bb-daa1-40d9-8b7f-e754720ff28c",
   "metadata": {},
   "outputs": [],
   "source": []
  }
 ],
 "metadata": {
  "kernelspec": {
   "display_name": "Python 3 (ipykernel)",
   "language": "python",
   "name": "python3"
  },
  "language_info": {
   "codemirror_mode": {
    "name": "ipython",
    "version": 3
   },
   "file_extension": ".py",
   "mimetype": "text/x-python",
   "name": "python",
   "nbconvert_exporter": "python",
   "pygments_lexer": "ipython3",
   "version": "3.11.9"
  }
 },
 "nbformat": 4,
 "nbformat_minor": 5
}
